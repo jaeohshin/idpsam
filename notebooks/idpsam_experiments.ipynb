{
  "nbformat": 4,
  "nbformat_minor": 0,
  "metadata": {
    "colab": {
      "provenance": [],
      "gpuType": "T4"
    },
    "kernelspec": {
      "name": "python3",
      "display_name": "Python 3"
    },
    "language_info": {
      "name": "python"
    },
    "accelerator": "GPU"
  },
  "cells": [
    {
      "cell_type": "markdown",
      "source": [
        "# IdpSAM notebook\n",
        "\n",
        "## About\n",
        "Welcome to the idpSAM Colab notebook. IdpSAM is a latent [diffusion model](https://en.wikipedia.org/wiki/Diffusion_model) to generate ensembles of 3D conformations of [intrinsically disordered peptides and proteins](https://en.wikipedia.org/wiki/Intrinsically_disordered_proteins) (IDPs).\n",
        "\n",
        "You can use this notebook to generate an ensemble for a custom peptide sequence. When running on Colab, make sure to use GPU support (via `Edit` -> `Notebook settings`), otherwise the generation process will be significantly slower if you plan to generate large ensembles (> 1000 conformations).\n",
        "\n",
        "IdpSAM was trained on data from Markov Chain Monte Carlo simulations of intrinsically disordered peptides (their sequence was obtained from [DisProt](https://www.disprot.org)). The simulations were carried out using [ABSINTH](https://pubmed.ncbi.nlm.nih.gov/18506808/), an [implicit solvent model](https://en.wikipedia.org/wiki/Implicit_solvation), implemented in the [CAMPARI 4.0](https://campari.sourceforge.net/V4/index.html) package.\n",
        "\n",
        "NOTE: please be aware that the simulation protocol that we used contains numerous approximations and so the ensembles generated via idpSAM are likely only rough approximations of experimental ensembles!\n",
        "\n",
        "## Usage\n",
        "\n",
        "The notebook has three sections:\n",
        " 1. **Setup**: you must run this section install the dependencies on Colab.\n",
        " 2. **Input**: define the sequence of the peptide you want to model and choose option for idpSAM.\n",
        " 3. **Run idpSAM**: actually run the model and generate an ensemble.\n",
        " 4. **Analyze results**: visualize some properties of the ensemble (it's actually an optional section).\n",
        " 5. **Download results**: download the structural ensemble that you generated.\n",
        "\n",
        "## More information\n",
        "For more details on idpSAM and its training data, please refer to: [Transferable deep generative modeling of intrinsically disordered protein conformations](https://www.biorxiv.org/content/ADD_CORRECT_URL).\n",
        "\n",
        "For its source code, see: [idpSAM GitHub repository](https://github.com/giacomo-janson/idpsam)."
      ],
      "metadata": {
        "id": "pEKStIYDE6zf"
      }
    },
    {
      "cell_type": "markdown",
      "source": [
        "---\n",
        "\n",
        "# 1 - Setup"
      ],
      "metadata": {
        "id": "kcCn01rxFDeu"
      }
    },
    {
      "cell_type": "code",
      "execution_count": 1,
      "metadata": {
        "cellView": "form",
        "id": "YdbnzvOeEzmH",
        "outputId": "68f0da7b-4e2a-4088-c5c1-a02429913ecf",
        "colab": {
          "base_uri": "https://localhost:8080/"
        }
      },
      "outputs": [
        {
          "output_type": "stream",
          "name": "stdout",
          "text": [
            "# Starting the installation process on the Colab cloud environment...\n",
            "- Installing the sam library (step 1/4).\n",
            "- Installing the diffusers library (step 2/4).\n",
            "- Installing the py3Dmol library (step 3/4).\n",
            "- Installing the mdtraj library (step 4/4).\n",
            "- Done.\n"
          ]
        }
      ],
      "source": [
        "#@title Install dependencies\n",
        "\n",
        "#@markdown Run this cell to install all the required dependencies for idpSAM. The installation will take place in the Colab notebook in the cloud. The whole process will take some minutes.\n",
        "\n",
        "import os\n",
        "import re\n",
        "import shutil\n",
        "import subprocess\n",
        "import time\n",
        "import torch\n",
        "import matplotlib.pyplot as plt\n",
        "import numpy as np\n",
        "from matplotlib import colors, colormaps\n",
        "\n",
        "\n",
        "os.environ[\"RUNNING_ON_COLAB\"] = \"1\"\n",
        "use_cg2all = False\n",
        "install_steps = 4\n",
        "cg2all_device = \"cpu\"\n",
        "\n",
        "def install(cmd):\n",
        "    o = subprocess.run(cmd, capture_output=True)\n",
        "\n",
        "print(\"# Starting the installation process on the Colab cloud environment...\")\n",
        "\n",
        "# Install the SAM package.\n",
        "print(f\"- Installing the sam library (step 1/{install_steps}).\")\n",
        "if os.path.isdir(\"idpsam\"):\n",
        "    shutil.rmtree(\"idpsam\")\n",
        "install([\"git\", \"clone\", \"https://github.com/giacomo-janson/idpsam.git\"])\n",
        "os.chdir(\"idpsam\")\n",
        "install([\"pip\", \"install\", \".\"])\n",
        "os.chdir(\"..\")\n",
        "\n",
        "# Install other dependencies.\n",
        "print(f\"- Installing the diffusers library (step 2/{install_steps}).\")\n",
        "install([\"pip\", \"install\", \"--upgrade\", \"diffusers[torch]\"])\n",
        "\n",
        "print(f\"- Installing the py3Dmol library (step 3/{install_steps}).\")\n",
        "install([\"pip\", \"install\", \"py3Dmol\"])\n",
        "\n",
        "# Install cg2all or mdtraj.\n",
        "if not use_cg2all:\n",
        "    print(f\"- Installing the mdtraj library (step 4/{install_steps}).\")\n",
        "    install([\"pip\", \"install\", \"mdtraj\"])\n",
        "else:\n",
        "    print(f\"- Installing mdtraj and cg2all (step 4/{install_steps}).\")\n",
        "    install([\"pip\", \"install\", \"-q\", \"git+http://github.com/huhlim/cg2all\"])\n",
        "\n",
        "print(\"- Done.\")"
      ]
    },
    {
      "cell_type": "markdown",
      "source": [
        "---\n",
        "\n",
        "# 2 - Input\n",
        "\n",
        "Use this section to specify the input sequence and options for idpSAM."
      ],
      "metadata": {
        "id": "dfdiDL2FFRuH"
      }
    },
    {
      "cell_type": "code",
      "source": [
        "#@title Enter the amino acid sequence\n",
        "name = \"Q9EP54\"  #@param {type:\"string\"}\n",
        "sequence = \"MACYPVNIRARGLGKNMGMKSRGRGKG\"  #@param {type:\"string\"}\n",
        "\n",
        "#@markdown Note: this version of idpSAM was trained with peptides with lengths between 12 and 60 amino acids. Therefore the model will likely produce bad results (e.g.: bad chain geometry and incorrect interaction patterns) for peptides with lengths significantly out of this range.\n",
        "\n",
        "# Check input.\n",
        "if not re.match(r'^[a-zA-Z0-9_-]*$', name):\n",
        "    del name\n",
        "    raise ValueError(\"Names can contain only the following characters: a-z A-Z 0-9 _ -\")\n",
        "if not re.match(r'^[QWERTYIPASDFGHKLCVNM]*$', sequence):\n",
        "    del sequence\n",
        "    raise ValueError(\"Sequences can contain only standard amino acid letters.\")"
      ],
      "metadata": {
        "cellView": "form",
        "id": "Q706Qyw6E2ZO"
      },
      "execution_count": 2,
      "outputs": []
    },
    {
      "cell_type": "code",
      "source": [
        "#@title Options\n",
        "\n",
        "from sam.model import SAM\n",
        "\n",
        "# Hidden options.\n",
        "config_fp = \"idpsam/config/models.yaml\"\n",
        "out_dp = \"output\"\n",
        "out_path = os.path.join(out_dp, \"pept\")\n",
        "\n",
        "device = \"cuda\" if torch.cuda.is_available() else \"cpu\"\n",
        "\n",
        "# User-defined.\n",
        "#@markdown Number of conformations to generate:\n",
        "n_samples = 1000 # @param {type:\"integer\"}\n",
        "#@markdown Number of diffusion steps in the generation process (min=1, max=1000):\n",
        "n_steps = 100 #@param {type:\"integer\"}\n",
        "#@markdown Batch size:\n",
        "batch_size = 500 #@param {type:\"integer\"}\n",
        "#@markdown Reconstruct all-atom details from C-alpha conformations via the [cg2all model](https://github.com/huhlim/cg2all/tree/main):\n",
        "all_atom = False #@param {type:\"boolean\"}\n",
        "#@markdown cg2all batch size:\n",
        "cg2all_batch_size = 250 #@param {type:\"integer\"}\n",
        "\n",
        "# Check the input.\n",
        "if not 1 <= n_steps <= 1000:\n",
        "    raise ValueError(\"Invalid number of diffusion steps.\")\n",
        "if all_atom:\n",
        "    if not use_cg2all:\n",
        "        raise ValueError(\"Can not reconstruct all-atom conformations. cg2all installation on Colab was not successful. Please uncheck this option.\")\n",
        "    if n_samples % cg2all_batch_size != 0:\n",
        "        raise ValueError(\n",
        "            \"The all-atom conversion script can only work when --batch_size\"\n",
        "            f\" is an exact divisor of --n_samples. You provided\"\n",
        "            f\" {cg2all_batch_size} and {n_samples}. Please manually\"\n",
        "            \" adjust the values.\")\n"
      ],
      "metadata": {
        "id": "KS3NTtZDFdOz"
      },
      "execution_count": 3,
      "outputs": []
    },
    {
      "cell_type": "markdown",
      "source": [
        "### More information about the options"
      ],
      "metadata": {
        "id": "DSn_tSnEFj20"
      }
    },
    {
      "cell_type": "markdown",
      "source": [
        "* `n_samples`: number of statistically independent C-alpha conformations to generate with idpSAM. For peptides with lengths below 50 residues, 5000 samples probably describe very well the entire conformational ensemble. For most applications, if you generate more samples you will not get much more information.\n",
        "* `n_steps`: number of diffusion steps in the sampling process of the [denoising diffusion probabilistic model](https://arxiv.org/abs/2006.11239) of idpSAM. The lower the number, the faster the generative process is going to be. The default value is 100, which we found to work well empirically for C-alpha modeling. A value of 50 will also probably work well and sampling will be faster. But we found that going under 10 steps will result in results numerous clashes and incorrect interaction patterns. <!-- Note: if your goal is to generate an all-atom ensemble of the highest possible stereochemical quality, you should use as many steps as possible (ideally 1000), because modeling with more steps helps to remove small inaccuracies in the C-alpha geometry.-->\n",
        "* `batch_size`: batch size for all the neural network models used in this notebook. Ideally, larger values will result in faster sampling (since more conformations will be processed in parallel in the same batch). However, using values being too high will result in out-of-memory errors on Colab, especially when using a GPU. For idpSAM, memory consumptions is roughly quadratic with protein length, so for smaller sequences you can safely use larger batch sizes.\n",
        "* `all_atom`: when this option is used, the [cg2all model](https://github.com/huhlim/cg2all/tree/main) will convert the C-alpha conformations from idpSAM to all-atom structures.\n",
        "* `cg2all_batch_size`: batch size of cg2all. Only takes effect when the `all_atom` option is used. If for longer peptides the script crashes, try to decrease its value."
      ],
      "metadata": {
        "id": "T9zmeSyBFmyY"
      }
    },
    {
      "cell_type": "markdown",
      "source": [
        "---\n",
        "\n",
        "# 3 - Run idpSAM"
      ],
      "metadata": {
        "id": "yGHA3SMlFsYG"
      }
    },
    {
      "cell_type": "code",
      "source": [
        "#@title Initialize idpSAM\n",
        "\n",
        "#@markdown Run this cell to load a pre-trained idpSAM model.\n",
        "\n",
        "# Initialize the idpSAM model.\n",
        "idpsam = SAM(config_fp=config_fp,\n",
        "             device=device,\n",
        "             weights_parent_path=\"idpsam\",\n",
        "             verbose=True)"
      ],
      "metadata": {
        "cellView": "form",
        "id": "_dW7cPDeFiem",
        "outputId": "9cf00865-61a0-4396-b929-f05f6f4d756a",
        "colab": {
          "base_uri": "https://localhost:8080/"
        }
      },
      "execution_count": 4,
      "outputs": [
        {
          "output_type": "stream",
          "name": "stdout",
          "text": [
            "# Setting up a SAM model from: idpsam/config/models.yaml.\n",
            "- Using device 'cuda'.\n",
            "- Loading epsilon network from: idpsam/weights/v1.0/nn.eps.pt.\n"
          ]
        },
        {
          "output_type": "stream",
          "name": "stderr",
          "text": [
            "/usr/local/lib/python3.11/dist-packages/sam/model.py:91: FutureWarning: You are using `torch.load` with `weights_only=False` (the current default value), which uses the default pickle module implicitly. It is possible to construct malicious pickle data which will execute arbitrary code during unpickling (See https://github.com/pytorch/pytorch/blob/main/SECURITY.md#untrusted-models for more details). In a future release, the default value for `weights_only` will be flipped to `True`. This limits the functions that could be executed during unpickling. Arbitrary objects will no longer be allowed to be loaded via this mode unless they are explicitly allowlisted by the user via `torch.serialization.add_safe_globals`. We recommend you start setting `weights_only=True` for any use case where you don't have full control of the loaded file. Please open an issue on GitHub for any issues related to this experimental feature.\n",
            "  self.eps_model.load_state_dict(torch.load(eps_fp, **map_location_args))\n",
            "/usr/local/lib/python3.11/dist-packages/sam/model.py:99: FutureWarning: You are using `torch.load` with `weights_only=False` (the current default value), which uses the default pickle module implicitly. It is possible to construct malicious pickle data which will execute arbitrary code during unpickling (See https://github.com/pytorch/pytorch/blob/main/SECURITY.md#untrusted-models for more details). In a future release, the default value for `weights_only` will be flipped to `True`. This limits the functions that could be executed during unpickling. Arbitrary objects will no longer be allowed to be loaded via this mode unless they are explicitly allowlisted by the user via `torch.serialization.add_safe_globals`. We recommend you start setting `weights_only=True` for any use case where you don't have full control of the loaded file. Please open an issue on GitHub for any issues related to this experimental feature.\n",
            "  enc_std_scaler = torch.load(enc_scaler_fp)\n",
            "/usr/local/lib/python3.11/dist-packages/sam/model.py:121: FutureWarning: You are using `torch.load` with `weights_only=False` (the current default value), which uses the default pickle module implicitly. It is possible to construct malicious pickle data which will execute arbitrary code during unpickling (See https://github.com/pytorch/pytorch/blob/main/SECURITY.md#untrusted-models for more details). In a future release, the default value for `weights_only` will be flipped to `True`. This limits the functions that could be executed during unpickling. Arbitrary objects will no longer be allowed to be loaded via this mode unless they are explicitly allowlisted by the user via `torch.serialization.add_safe_globals`. We recommend you start setting `weights_only=True` for any use case where you don't have full control of the loaded file. Please open an issue on GitHub for any issues related to this experimental feature.\n",
            "  self.decoder.load_state_dict( torch.load(dec_fp, **map_location_args))\n"
          ]
        },
        {
          "output_type": "stream",
          "name": "stdout",
          "text": [
            "- Loading decoder network from: idpsam/weights/v1.0/nn.dec.pt.\n"
          ]
        }
      ]
    },
    {
      "cell_type": "code",
      "source": [
        "#@title Generate C-alpha conformations\n",
        "\n",
        "#@markdown Run this cell to actually generate conformations!\n",
        "\n",
        "#@markdown Note: if you are using CPUs it will probably take tens of minutes with the default options of this notebook.\n",
        "\n",
        "# Generate C-alpha conformations.\n",
        "out_data = idpsam.sample(\n",
        "    seq=sequence,\n",
        "    n_samples=n_samples,\n",
        "    n_steps=n_steps,\n",
        "    batch_size_eps=batch_size,\n",
        "    return_enc=False,\n",
        "    prot_name=name,\n",
        "    out_type=\"numpy\")\n",
        "\n",
        "# Create the output directory.\n",
        "if not os.path.isdir(out_dp):\n",
        "    os.mkdir(out_dp)\n",
        "\n",
        "# Save the conformations.\n",
        "save_data = idpsam.save(\n",
        "    out=out_data,\n",
        "    out_path=out_path,\n",
        "    out_fmt=\"dcd\")"
      ],
      "metadata": {
        "cellView": "form",
        "id": "GRBw6t9VFyqq",
        "outputId": "8cc6f4ad-8009-4f50-c087-fade1769de78",
        "colab": {
          "base_uri": "https://localhost:8080/"
        }
      },
      "execution_count": 5,
      "outputs": [
        {
          "output_type": "stream",
          "name": "stdout",
          "text": [
            "# Generating encodings for 1000 samples.\n",
            "- seq: MACYPVNIRARGLGKNMGMKSRGRGKG\n",
            "- Setting up a dataloader for encodings.\n",
            "- Loading enc=torch.Size([1000, 27, 16]) for Q9EP54\n",
            "- Generating...\n",
            "- Generated 500 conformations of 1000\n",
            "- Generated 1000 conformations of 1000\n",
            "- Done.\n",
            "# Decoding 1000 samples.\n",
            "- Setting up a dataloader for xyz conformations.\n",
            "- Loading xyz=(1000, 27, 3) for Q9EP54\n",
            "- Decoding.\n",
            "- Decoded 500 graphs of 1000\n",
            "- Decoded 1000 graphs of 1000\n",
            "- Done.\n",
            "# Saving output.\n",
            "- Saving a FASTA sequence file to: output/pept.seq.fasta.\n",
            "- Saving a C-alpha trajectory dcd file to: output/pept.ca.traj.dcd.\n",
            "- Saving a C-alpha topology PDB file to: output/pept.ca.top.pdb.\n"
          ]
        }
      ]
    },
    {
      "cell_type": "code",
      "source": [
        "#@title Optional: build all-atom structures\n",
        "#@markdown This will be run only if you checked the `all_atom` option.\n",
        "\n",
        "if all_atom:\n",
        "    cg2all_data = idpsam.cg2all(\n",
        "        ca_pdb_fp=save_data[\"ca_pdb\"],\n",
        "        ca_traj_fp=save_data[\"ca_dcd\"],\n",
        "        out_path=out_path,\n",
        "        batch_size=cg2all_batch_size,\n",
        "        device=cg2all_device)\n",
        "else:\n",
        "    print(\"# Will not build all-atom structures.\")"
      ],
      "metadata": {
        "cellView": "form",
        "id": "AZUATPfPF1-Z",
        "outputId": "6444396b-1b67-4667-a784-302257d05562",
        "colab": {
          "base_uri": "https://localhost:8080/"
        }
      },
      "execution_count": 6,
      "outputs": [
        {
          "output_type": "stream",
          "name": "stdout",
          "text": [
            "# Will not build all-atom structures.\n"
          ]
        }
      ]
    },
    {
      "cell_type": "markdown",
      "source": [
        "---\n",
        "\n",
        "# 4 - Analyze results\n",
        "\n",
        "In this section you can quickly analyze some quick properties of the ensemble you generated."
      ],
      "metadata": {
        "id": "lEqKgv-tF7vT"
      }
    },
    {
      "cell_type": "code",
      "source": [
        "#@title Carbon alpha properties of the ensemble\n",
        "\n",
        "#@markdown **Run the analysis**\n",
        "\n",
        "import mdtraj\n",
        "from sam.coords import calc_dmap, calc_dmap_triu, torch_chain_dihedrals\n",
        "import sklearn.decomposition\n",
        "\n",
        "print(\"# Analyzing...\")\n",
        "\n",
        "traj = mdtraj.load(save_data[\"ca_dcd\"], top=save_data[\"ca_pdb\"])\n",
        "traj.center_coordinates()\n",
        "prot_data = {}\n",
        "\n",
        "# PCA.\n",
        "print(\"- Performing PCA\")\n",
        "dt = calc_dmap_triu(traj.xyz, backend=\"numpy\")\n",
        "pca = sklearn.decomposition.PCA(n_components=10)\n",
        "pca.fit(dt)\n",
        "prot_data[\"pca\"] = pca.transform(dt)\n",
        "\n",
        "# Distance map.\n",
        "dmap = calc_dmap(traj.xyz, backend=\"numpy\")\n",
        "diag_indices = np.diag_indices(dmap.shape[2])\n",
        "tril_indices = np.tril_indices(dmap.shape[2])\n",
        "prot_data[\"dmap\"] = dmap.mean(axis=0)\n",
        "# prot_data[prot_name][\"dmap\"][0, diag_indices[0], diag_indices[1]] = np.nan\n",
        "prot_data[\"dmap\"][0, tril_indices[0], tril_indices[1]] = np.nan\n",
        "\n",
        "# Contact map.\n",
        "prot_data[\"cmap\"] = np.sum(dmap <= 0.8, axis=0)/dmap.shape[0]\n",
        "# prot_data[prot_name][\"cmap\"][0, diag_indices[0], diag_indices[1]] = np.nan\n",
        "prot_data[\"cmap\"][0, tril_indices[0], tril_indices[1]] = np.nan\n",
        "\n",
        "# Rg\n",
        "print(\"- Computing Rg\")\n",
        "prot_data[\"rg\"] = mdtraj.compute_rg(traj)\n",
        "\n",
        "# a torsions.\n",
        "print(\"- Computing alpha torsions\")\n",
        "prot_data[\"tors\"] = torch_chain_dihedrals(traj.xyz, backend=\"numpy\").ravel()"
      ],
      "metadata": {
        "cellView": "form",
        "id": "EhWqYTELF8Kl",
        "outputId": "12aa16b0-255d-4c93-8a5a-60525dd80205",
        "colab": {
          "base_uri": "https://localhost:8080/"
        }
      },
      "execution_count": 7,
      "outputs": [
        {
          "output_type": "stream",
          "name": "stdout",
          "text": [
            "# Analyzing...\n",
            "- Performing PCA\n",
            "- Computing Rg\n",
            "- Computing alpha torsions\n"
          ]
        },
        {
          "output_type": "stream",
          "name": "stderr",
          "text": [
            "/usr/local/lib/python3.11/dist-packages/sam/coords.py:83: UserWarning: Using torch.cross without specifying the dim arg is deprecated.\n",
            "Please either pass the dim explicitly or simply use torch.linalg.cross.\n",
            "The default value of dim will change to agree with that of linalg.cross in a future release. (Triggered internally at ../aten/src/ATen/native/Cross.cpp:62.)\n",
            "  b0xb1 = torch.cross(b0, b1)\n"
          ]
        }
      ]
    },
    {
      "cell_type": "code",
      "source": [
        "#@markdown **Visualize properties**\n",
        "\n",
        "ax_title_size = 9\n",
        "ax_label_size = 8  # 7.5\n",
        "colorbar_shrink = 0.9\n",
        "linewidth = 1.5\n",
        "\n",
        "fig, ax = plt.subplots(1, 5,\n",
        "                       layout='constrained',\n",
        "                       figsize=(9.5, 1.85),\n",
        "                       dpi=180)\n",
        "\n",
        "##################\n",
        "# PCA histogram. #\n",
        "##################\n",
        "\n",
        "pc_dim_x = 0\n",
        "pc_dim_y = 1\n",
        "n_pca_bins = 20\n",
        "ax[0].set_title(\"PCA of distances\", fontsize=ax_title_size)\n",
        "ax[0].set_xlabel(f\"PC {pc_dim_x+1}\", fontsize=ax_label_size)\n",
        "ax[0].set_ylabel(f\"PC {pc_dim_y+1}\", fontsize=ax_label_size)\n",
        "ax[0].tick_params(axis='both', labelsize=ax_label_size)\n",
        "\n",
        "if n_samples >= 100:\n",
        "    hist = ax[0].hist2d(prot_data[\"pca\"][:,pc_dim_x],\n",
        "                        prot_data[\"pca\"][:,pc_dim_y],\n",
        "                        cmap=\"magma\", bins=n_pca_bins,\n",
        "                        norm=colors.LogNorm(), density=True)\n",
        "    cbar = fig.colorbar(hist[-1], ax=ax[0])\n",
        "    cbar.set_label(\"Density\", fontsize=ax_label_size-1)\n",
        "    cbar.ax.tick_params(labelsize=ax_label_size-1)\n",
        "else:\n",
        "    ax[0].scatter(prot_data[\"pca\"][:,pc_dim_x],\n",
        "                  prot_data[\"pca\"][:,pc_dim_y],\n",
        "                  marker=\".\")\n",
        "\n",
        "################\n",
        "# Contact map. #\n",
        "################\n",
        "\n",
        "ax[1].set_title(r\"C$\\alpha$-C$\\alpha$ contact map\", fontsize=ax_title_size)\n",
        "cmap_min = -3.5  # 3\n",
        "cmap = colormaps.get_cmap(\"Spectral_r\")\n",
        "norm = colors.Normalize(cmap_min, 0)\n",
        "log_func = np.log10\n",
        "pseudo_c = 1e-12\n",
        "_cmap = log_func(prot_data[\"cmap\"][0] + pseudo_c)\n",
        "cmap_im = ax[1].imshow(_cmap,cmap=cmap, norm=norm,\n",
        "                       aspect=\"equal\")\n",
        "max_ticks = 3\n",
        "ax[1].xaxis.set_major_locator(plt.MaxNLocator(max_ticks))\n",
        "ax[1].yaxis.set_major_locator(plt.MaxNLocator(max_ticks))\n",
        "ax[1].tick_params(axis='both', labelsize=ax_label_size)\n",
        "\n",
        "cmap_cbar = fig.colorbar(\n",
        "    cmap_im, ax=ax[1],\n",
        "    location=\"right\",\n",
        "    shrink=colorbar_shrink,\n",
        ")\n",
        "cmap_cbar.set_label(r'$log_{10}(p_{ij})$',\n",
        "                    fontsize=ax_label_size-1)\n",
        "cmap_cbar.ax.tick_params(labelsize=ax_label_size-1)\n",
        "\n",
        "#################\n",
        "# Distance map. #\n",
        "#################\n",
        "\n",
        "ax[2].set_title(r\"C$\\alpha$-C$\\alpha$ distances\", fontsize=ax_title_size)\n",
        "dmap_im = ax[2].imshow(prot_data[\"dmap\"][0],\n",
        "                       cmap=colormaps.get_cmap(\"viridis\"))\n",
        "ax[2].xaxis.set_major_locator(plt.MaxNLocator(max_ticks))\n",
        "ax[2].yaxis.set_major_locator(plt.MaxNLocator(max_ticks))\n",
        "ax[2].set_yticklabels([])\n",
        "ax[2].tick_params(axis='both', labelsize=ax_label_size)\n",
        "\n",
        "cbar = fig.colorbar(dmap_im, ax=ax[2], location=\"right\",\n",
        "                    shrink=colorbar_shrink)\n",
        "cbar.set_label(r\"Average $d_{ij}$ [nm]\",\n",
        "               fontsize=ax_label_size-1)\n",
        "cbar.ax.tick_params(labelsize=ax_label_size)\n",
        "\n",
        "#################\n",
        "# Rg histogram. #\n",
        "#################\n",
        "\n",
        "n_rg_bins = 35\n",
        "\n",
        "ax[3].set_title(r\"$R_g$ (mean={:.2f} nm)\".format(prot_data[\"rg\"].mean()),\n",
        "                fontsize=ax_title_size)\n",
        "rg_h_r = ax[3].hist(prot_data[\"rg\"],\n",
        "                    bins=np.linspace(0.4, 2.2, n_rg_bins+1),\n",
        "                    histtype=\"step\", density=True,\n",
        "                    linewidth=linewidth)\n",
        "ax[3].set_xlabel(r\"C$\\alpha$ $R_g$ [nm]\", fontsize=ax_label_size)\n",
        "ax[3].set_ylabel(\"Density\", fontsize=ax_label_size)\n",
        "ax[3].tick_params(axis='both', labelsize=ax_label_size)\n",
        "\n",
        "#########################\n",
        "# a torsions histogram. #\n",
        "#########################\n",
        "\n",
        "n_tors_bins = 35\n",
        "\n",
        "ax[4].set_title(r\"$\\alpha$ angles\", fontsize=ax_title_size)\n",
        "ax[4].hist(prot_data[\"tors\"],\n",
        "    bins=np.linspace(-np.pi, np.pi, n_tors_bins+1),\n",
        "    histtype=\"step\", density=True,\n",
        "    linewidth=linewidth)\n",
        "ax[4].set_xlabel(r\"$\\alpha$ angle [radians]\", fontsize=ax_label_size)\n",
        "ax[4].set_ylabel(\"Density\", fontsize=ax_label_size)\n",
        "ax[4].set_xticks([-np.pi, 0, np.pi])\n",
        "ax[4].tick_params(axis='both', labelsize=ax_label_size)\n",
        "# ax[4].set_aspect(\"equal\")\n",
        "\n",
        "# plt.tight_layout()\n",
        "plt.show()"
      ],
      "metadata": {
        "cellView": "form",
        "id": "J_1gsNuPGA7u",
        "outputId": "5d621a2c-515e-46ae-c6f3-1657ded58b4c",
        "colab": {
          "base_uri": "https://localhost:8080/",
          "height": 370
        }
      },
      "execution_count": 8,
      "outputs": [
        {
          "output_type": "display_data",
          "data": {
            "text/plain": [
              "<Figure size 1710x333 with 8 Axes>"
            ],
            "image/png": "[encoded data removed]"
          },
          "metadata": {}
        }
      ]
    },
    {
      "cell_type": "code",
      "source": [
        "#@title Optional: all-atom properties of the ensemble\n",
        "#@markdown **Run the analysis**\n",
        "\n",
        "if all_atom:\n",
        "\n",
        "    print(\"# Analyzing...\")\n",
        "\n",
        "    aa_traj = mdtraj.load(cg2all_data[\"aa_dcd\"],\n",
        "                          top=cg2all_data[\"aa_top\"])\n",
        "    aa_traj.center_coordinates()\n",
        "    aa_prot_data = {}\n",
        "\n",
        "    # Rg\n",
        "    print(\"- Computing Rg\")\n",
        "    aa_prot_data[\"rg\"] = mdtraj.compute_rg(aa_traj)\n",
        "\n",
        "    # DSSP.\n",
        "    print(\"- Computing backbone properties\")\n",
        "    aa_prot_data[\"phi\"] = mdtraj.compute_phi(aa_traj)\n",
        "    aa_prot_data[\"psi\"] = mdtraj.compute_psi(aa_traj)\n",
        "    aa_prot_data[\"dssp\"] = mdtraj.compute_dssp(aa_traj)\n",
        "\n",
        "else:\n",
        "    print(\"# Will not analyze all-atom properties.\")"
      ],
      "metadata": {
        "cellView": "form",
        "id": "pdtaXWeyGEVr",
        "outputId": "1a7bd357-57d3-4bbf-9367-80410ea8aaa2",
        "colab": {
          "base_uri": "https://localhost:8080/"
        }
      },
      "execution_count": 9,
      "outputs": [
        {
          "output_type": "stream",
          "name": "stdout",
          "text": [
            "# Will not analyze all-atom properties.\n"
          ]
        }
      ]
    },
    {
      "cell_type": "code",
      "source": [
        "#@markdown **Visualize properties**\n",
        "\n",
        "if all_atom:\n",
        "\n",
        "    ax_title_size = 9\n",
        "    ax_label_size = 8  # 7.5\n",
        "    colorbar_shrink = 0.9\n",
        "    linewidth = 1.5\n",
        "\n",
        "    fig, ax = plt.subplots(1, 3,\n",
        "                           layout='constrained',\n",
        "                           figsize=(6.5, 1.85),\n",
        "                           dpi=180)\n",
        "\n",
        "    #############################\n",
        "    # Rg vs helicity histogram. #\n",
        "    #############################\n",
        "\n",
        "    n_rgh_bins = 20\n",
        "    ax[0].set_title(r\"$R_g$ vs helicity\", fontsize=ax_title_size)\n",
        "    ax[0].set_xlabel(r\"$R_g$ [nm]\", fontsize=ax_label_size)\n",
        "    ax[0].set_ylabel(\"Helicity fraction\", fontsize=ax_label_size)\n",
        "    ax[0].tick_params(axis='both', labelsize=ax_label_size)\n",
        "\n",
        "    helicity = np.mean(aa_prot_data[\"dssp\"] == \"H\", axis=1)\n",
        "    if n_samples >= 100:\n",
        "        hist = ax[0].hist2d(aa_prot_data[\"rg\"], helicity,\n",
        "                            cmap=\"magma\", bins=n_rgh_bins,\n",
        "                            norm=colors.LogNorm(), density=True)\n",
        "        cbar = fig.colorbar(hist[-1], ax=ax[0])\n",
        "        cbar.set_label(\"Density\", fontsize=ax_label_size-1)\n",
        "        cbar.ax.tick_params(labelsize=ax_label_size-1)\n",
        "    else:\n",
        "        ax[0].scatter(aa_prot_data[\"rg\"][:],\n",
        "                      helicity, marker=\".\")\n",
        "\n",
        "    ######################\n",
        "    # Ramachandran plot. #\n",
        "    ######################\n",
        "\n",
        "    rama_bins = 50\n",
        "    rama_linspace = np.linspace(-np.pi, np.pi, rama_bins)\n",
        "    ax[1].set_title(r\"Ramachandran plot\", fontsize=ax_title_size)\n",
        "    ax[1].set_xlabel(r\"phi [radians]\", fontsize=ax_label_size)\n",
        "    ax[1].set_ylabel(\"psi [radians]\", fontsize=ax_label_size)\n",
        "    ax[1].tick_params(axis='both', labelsize=ax_label_size)\n",
        "\n",
        "    hist = ax[1].hist2d(aa_prot_data[\"phi\"][1].ravel(),\n",
        "                        aa_prot_data[\"psi\"][1].ravel(),\n",
        "                        cmap=\"viridis\", bins=(rama_linspace, rama_linspace),\n",
        "                        norm=colors.LogNorm(), density=True)\n",
        "    cbar = fig.colorbar(hist[-1], ax=ax[1])\n",
        "    cbar.set_label(\"Density\", fontsize=ax_label_size-1)\n",
        "    cbar.ax.tick_params(labelsize=ax_label_size-1)\n",
        "\n",
        "    ################################\n",
        "    # Secondary structure profile. #\n",
        "    ################################\n",
        "\n",
        "    ax[2].set_title(r\"DSSP states\", fontsize=ax_title_size)\n",
        "    for state, label in ((\"H\", \"helix\"), (\"E\", \"strand\"), (\"C\", \"coil\")):\n",
        "        ax[2].plot(np.arange(1, len(sequence)+1),\n",
        "                   np.mean(aa_prot_data[\"dssp\"] == state, axis=0), label=label)\n",
        "    ax[2].legend(fontsize=ax_label_size-2)\n",
        "    ax[2].set_xlabel(\"Residue index\", fontsize=ax_label_size)\n",
        "    ax[2].set_ylabel(\"Frequency\", fontsize=ax_label_size)\n",
        "\n",
        "    plt.show()"
      ],
      "metadata": {
        "cellView": "form",
        "id": "MFnEIeEcGGzi"
      },
      "execution_count": 10,
      "outputs": []
    },
    {
      "cell_type": "code",
      "source": [
        "#@title Visualize 3D structures\n",
        "\n",
        "import py3Dmol\n",
        "#@markdown Choose the resolution:\n",
        "show_all_atom = False #@param {type:\"boolean\"}\n",
        "\n",
        "#@markdown Select the index of the conformation to visualize:\n",
        "snapshot_id = 0 # @param {type:\"integer\"}\n",
        "\n",
        "def extract_rgb_from_colormap(colormap_name, N):\n",
        "    # Create a colormap object.\n",
        "    colormap = plt.get_cmap(colormap_name)\n",
        "    # Generate N equally spaced values between 0 and 1.\n",
        "    points = np.linspace(0, 1, N)\n",
        "    # Use the colormap to get colors for these points, converting to HTML format.\n",
        "    colors = [colormap(point)[:3] for point in points] # Extract RGB, ignore A.\n",
        "    html_colors = ['#' + ''.join([f'{int(val*255):02x}' for val in color]) for color in colors]\n",
        "    return html_colors\n",
        "\n",
        "def show_structure(snapshot, representation='aa', cmap_name='viridis'):\n",
        "    pdb_fn = f'.temp.{time.time()}.pdb'\n",
        "    snapshot.save(pdb_fn)\n",
        "    view = py3Dmol.view(js='https://3dmol.org/build/3Dmol.js')\n",
        "    with open(pdb_fn, 'r') as i_fh:\n",
        "        view.addModel(i_fh.read(), 'pdb')\n",
        "    os.remove(pdb_fn)\n",
        "\n",
        "    if representation == 'aa':\n",
        "        view.setStyle({'cartoon': {'color': 'spectrum'},\n",
        "                       'stick': {'color': 'spectrum'}})\n",
        "    elif representation == 'cg':\n",
        "        n_residues = snapshot.xyz.shape[1]\n",
        "        colors = extract_rgb_from_colormap(cmap_name, n_residues)\n",
        "        for i in range(n_residues):\n",
        "            view.setStyle({'serial': str(i+1)},\n",
        "                          {'sphere': {'color': colors[i],\n",
        "                                      'radius': 1.9}})\n",
        "    else:\n",
        "        raise NotImplementedError(representation)\n",
        "\n",
        "    view.zoomTo()\n",
        "    return view\n",
        "\n",
        "if not show_all_atom:\n",
        "    snapshot = traj[snapshot_id]\n",
        "    representation = 'cg'\n",
        "else:\n",
        "    snapshot = aa_traj[snapshot_id]\n",
        "    representation = 'aa'\n",
        "print('Blue is N-term. and red is C-term.')\n",
        "\n",
        "view = show_structure(\n",
        "    snapshot=snapshot,\n",
        "    representation=representation,\n",
        "    cmap_name='Spectral_r')\n",
        "view.show()"
      ],
      "metadata": {
        "cellView": "form",
        "id": "4vLQ3__3GPXx",
        "outputId": "7a0df3ad-c4c3-45e5-bde5-5d3d4de511da",
        "colab": {
          "base_uri": "https://localhost:8080/",
          "height": 514
        }
      },
      "execution_count": 11,
      "outputs": [
        {
          "output_type": "stream",
          "name": "stdout",
          "text": [
            "Blue is N-term. and red is C-term.\n"
          ]
        },
        {
          "output_type": "display_data",
          "data": {
            "application/3dmoljs_load.v0": "<div id=\"3dmolviewer_17391731821913338\"  style=\"position: relative; width: 640px; height: 480px;\">\n        <p id=\"3dmolwarning_17391731821913338\" style=\"background-color:#ffcccc;color:black\">3Dmol.js failed to load for some reason.  Please check your browser console for error messages.<br></p>\n        </div>\n<script>\n\nvar loadScriptAsync = function(uri){\n  return new Promise((resolve, reject) => {\n    //this is to ignore the existence of requirejs amd\n    var savedexports, savedmodule;\n    if (typeof exports !== 'undefined') savedexports = exports;\n    else exports = {}\n    if (typeof module !== 'undefined') savedmodule = module;\n    else module = {}\n\n    var tag = document.createElement('script');\n    tag.src = uri;\n    tag.async = true;\n    tag.onload = () => {\n        exports = savedexports;\n        module = savedmodule;\n        resolve();\n    };\n  var firstScriptTag = document.getElementsByTagName('script')[0];\n  firstScriptTag.parentNode.insertBefore(tag, firstScriptTag);\n});\n};\n\nif(typeof $3Dmolpromise === 'undefined') {\n$3Dmolpromise = null;\n  $3Dmolpromise = loadScriptAsync('https://3dmol.org/build/3Dmol.js');\n}\n\nvar viewer_17391731821913338 = null;\nvar warn = document.getElementById(\"3dmolwarning_17391731821913338\");\nif(warn) {\n    warn.parentNode.removeChild(warn);\n}\n$3Dmolpromise.then(function() {\nviewer_17391731821913338 = $3Dmol.createViewer(document.getElementById(\"3dmolviewer_17391731821913338\"),{backgroundColor:\"white\"});\nviewer_17391731821913338.zoomTo();\n\tviewer_17391731821913338.addModel(\"MODEL        0\\nATOM      1  CA  MET A   0      -1.535  -8.443  -7.525  1.00  0.00           C  \\nATOM      2  CA  ALA A   1      -0.727  -7.037 -10.968  1.00  0.00           C  \\nATOM      3  CA  CYS A   2      -3.439  -4.363 -10.852  1.00  0.00           C  \\nATOM      4  CA  TYR A   3      -6.560  -6.089  -9.515  1.00  0.00           C  \\nATOM      5  CA  PRO A   4      -8.946  -5.426  -6.627  1.00  0.00           C  \\nATOM      6  CA  VAL A   5      -6.998  -7.982  -4.602  1.00  0.00           C  \\nATOM      7  CA  ASN A   6      -6.394  -8.024  -0.855  1.00  0.00           C  \\nATOM      8  CA  ILE A   7      -2.839  -7.317   0.263  1.00  0.00           C  \\nATOM      9  CA  ARG A   8      -0.711 -10.292   1.300  1.00  0.00           C  \\nATOM     10  CA  ALA A   9       2.434  -9.723  -0.757  1.00  0.00           C  \\nATOM     11  CA  ARG A  10       4.033  -6.439  -1.806  1.00  0.00           C  \\nATOM     12  CA  GLY A  11       2.099  -4.672  -4.570  1.00  0.00           C  \\nATOM     13  CA  LEU A  12       0.262  -1.352  -4.801  1.00  0.00           C  \\nATOM     14  CA  GLY A  13      -2.508   0.797  -3.335  1.00  0.00           C  \\nATOM     15  CA  LYS A  14      -3.980  -0.836  -0.236  1.00  0.00           C  \\nATOM     16  CA  ASN A  15      -0.328  -1.475   0.570  1.00  0.00           C  \\nATOM     17  CA  MET A  16       1.306   1.828  -0.373  1.00  0.00           C  \\nATOM     18  CA  GLY A  17      -1.675   3.774   0.968  1.00  0.00           C  \\nATOM     19  CA  MET A  18      -1.223   2.158   4.375  1.00  0.00           C  \\nATOM     20  CA  LYS A  19       2.393   3.291   4.065  1.00  0.00           C  \\nATOM     21  CA  SER A  20       2.032   6.933   3.029  1.00  0.00           C  \\nATOM     22  CA  ARG A  21      -0.205   7.271   6.063  1.00  0.00           C  \\nATOM     23  CA  GLY A  22       2.990   8.377   7.794  1.00  0.00           C  \\nATOM     24  CA  ARG A  23       4.416  11.907   7.729  1.00  0.00           C  \\nATOM     25  CA  GLY A  24       7.951  11.672   9.107  1.00  0.00           C  \\nATOM     26  CA  LYS A  25      10.330  14.393  10.274  1.00  0.00           C  \\nATOM     27  CA  GLY A  26       7.823  17.071  11.285  1.00  0.00           C  \\nTER      28      GLY A  26\\nENDMDL\\nEND\\n\",\"pdb\");\n\tviewer_17391731821913338.setStyle({\"serial\": \"1\"},{\"sphere\": {\"color\": \"#5e4fa2\", \"radius\": 1.9}});\n\tviewer_17391731821913338.setStyle({\"serial\": \"2\"},{\"sphere\": {\"color\": \"#4e63ab\", \"radius\": 1.9}});\n\tviewer_17391731821913338.setStyle({\"serial\": \"3\"},{\"sphere\": {\"color\": \"#3d79b6\", \"radius\": 1.9}});\n\tviewer_17391731821913338.setStyle({\"serial\": \"4\"},{\"sphere\": {\"color\": \"#398fb9\", \"radius\": 1.9}});\n\tviewer_17391731821913338.setStyle({\"serial\": \"5\"},{\"sphere\": {\"color\": \"#4da6b0\", \"radius\": 1.9}});\n\tviewer_17391731821913338.setStyle({\"serial\": \"6\"},{\"sphere\": {\"color\": \"#61bda6\", \"radius\": 1.9}});\n\tviewer_17391731821913338.setStyle({\"serial\": \"7\"},{\"sphere\": {\"color\": \"#7bcaa4\", \"radius\": 1.9}});\n\tviewer_17391731821913338.setStyle({\"serial\": \"8\"},{\"sphere\": {\"color\": \"#94d4a4\", \"radius\": 1.9}});\n\tviewer_17391731821913338.setStyle({\"serial\": \"9\"},{\"sphere\": {\"color\": \"#aedea3\", \"radius\": 1.9}});\n\tviewer_17391731821913338.setStyle({\"serial\": \"10\"},{\"sphere\": {\"color\": \"#c5e79e\", \"radius\": 1.9}});\n\tviewer_17391731821913338.setStyle({\"serial\": \"11\"},{\"sphere\": {\"color\": \"#dcf199\", \"radius\": 1.9}});\n\tviewer_17391731821913338.setStyle({\"serial\": \"12\"},{\"sphere\": {\"color\": \"#ebf7a1\", \"radius\": 1.9}});\n\tviewer_17391731821913338.setStyle({\"serial\": \"13\"},{\"sphere\": {\"color\": \"#f5fbb0\", \"radius\": 1.9}});\n\tviewer_17391731821913338.setStyle({\"serial\": \"14\"},{\"sphere\": {\"color\": \"#fefebd\", \"radius\": 1.9}});\n\tviewer_17391731821913338.setStyle({\"serial\": \"15\"},{\"sphere\": {\"color\": \"#fef3ab\", \"radius\": 1.9}});\n\tviewer_17391731821913338.setStyle({\"serial\": \"16\"},{\"sphere\": {\"color\": \"#fee797\", \"radius\": 1.9}});\n\tviewer_17391731821913338.setStyle({\"serial\": \"17\"},{\"sphere\": {\"color\": \"#fdd884\", \"radius\": 1.9}});\n\tviewer_17391731821913338.setStyle({\"serial\": \"18\"},{\"sphere\": {\"color\": \"#fdc473\", \"radius\": 1.9}});\n\tviewer_17391731821913338.setStyle({\"serial\": \"19\"},{\"sphere\": {\"color\": \"#fdb063\", \"radius\": 1.9}});\n\tviewer_17391731821913338.setStyle({\"serial\": \"20\"},{\"sphere\": {\"color\": \"#fa9857\", \"radius\": 1.9}});\n\tviewer_17391731821913338.setStyle({\"serial\": \"21\"},{\"sphere\": {\"color\": \"#f6814c\", \"radius\": 1.9}});\n\tviewer_17391731821913338.setStyle({\"serial\": \"22\"},{\"sphere\": {\"color\": \"#f16943\", \"radius\": 1.9}});\n\tviewer_17391731821913338.setStyle({\"serial\": \"23\"},{\"sphere\": {\"color\": \"#e55648\", \"radius\": 1.9}});\n\tviewer_17391731821913338.setStyle({\"serial\": \"24\"},{\"sphere\": {\"color\": \"#d9444d\", \"radius\": 1.9}});\n\tviewer_17391731821913338.setStyle({\"serial\": \"25\"},{\"sphere\": {\"color\": \"#c62e4b\", \"radius\": 1.9}});\n\tviewer_17391731821913338.setStyle({\"serial\": \"26\"},{\"sphere\": {\"color\": \"#b11646\", \"radius\": 1.9}});\n\tviewer_17391731821913338.setStyle({\"serial\": \"27\"},{\"sphere\": {\"color\": \"#9e0142\", \"radius\": 1.9}});\n\tviewer_17391731821913338.zoomTo();\nviewer_17391731821913338.render();\n});\n</script>",
            "text/html": [
              "<div id=\"3dmolviewer_17391731821913338\"  style=\"position: relative; width: 640px; height: 480px;\">\n",
              "        <p id=\"3dmolwarning_17391731821913338\" style=\"background-color:#ffcccc;color:black\">3Dmol.js failed to load for some reason.  Please check your browser console for error messages.<br></p>\n",
              "        </div>\n",
              "<script>\n",
              "\n",
              "var loadScriptAsync = function(uri){\n",
              "  return new Promise((resolve, reject) => {\n",
              "    //this is to ignore the existence of requirejs amd\n",
              "    var savedexports, savedmodule;\n",
              "    if (typeof exports !== 'undefined') savedexports = exports;\n",
              "    else exports = {}\n",
              "    if (typeof module !== 'undefined') savedmodule = module;\n",
              "    else module = {}\n",
              "\n",
              "    var tag = document.createElement('script');\n",
              "    tag.src = uri;\n",
              "    tag.async = true;\n",
              "    tag.onload = () => {\n",
              "        exports = savedexports;\n",
              "        module = savedmodule;\n",
              "        resolve();\n",
              "    };\n",
              "  var firstScriptTag = document.getElementsByTagName('script')[0];\n",
              "  firstScriptTag.parentNode.insertBefore(tag, firstScriptTag);\n",
              "});\n",
              "};\n",
              "\n",
              "if(typeof $3Dmolpromise === 'undefined') {\n",
              "$3Dmolpromise = null;\n",
              "  $3Dmolpromise = loadScriptAsync('https://3dmol.org/build/3Dmol.js');\n",
              "}\n",
              "\n",
              "var viewer_17391731821913338 = null;\n",
              "var warn = document.getElementById(\"3dmolwarning_17391731821913338\");\n",
              "if(warn) {\n",
              "    warn.parentNode.removeChild(warn);\n",
              "}\n",
              "$3Dmolpromise.then(function() {\n",
              "viewer_17391731821913338 = $3Dmol.createViewer(document.getElementById(\"3dmolviewer_17391731821913338\"),{backgroundColor:\"white\"});\n",
              "viewer_17391731821913338.zoomTo();\n",
              "\tviewer_17391731821913338.addModel(\"MODEL        0\\nATOM      1  CA  MET A   0      -1.535  -8.443  -7.525  1.00  0.00           C  \\nATOM      2  CA  ALA A   1      -0.727  -7.037 -10.968  1.00  0.00           C  \\nATOM      3  CA  CYS A   2      -3.439  -4.363 -10.852  1.00  0.00           C  \\nATOM      4  CA  TYR A   3      -6.560  -6.089  -9.515  1.00  0.00           C  \\nATOM      5  CA  PRO A   4      -8.946  -5.426  -6.627  1.00  0.00           C  \\nATOM      6  CA  VAL A   5      -6.998  -7.982  -4.602  1.00  0.00           C  \\nATOM      7  CA  ASN A   6      -6.394  -8.024  -0.855  1.00  0.00           C  \\nATOM      8  CA  ILE A   7      -2.839  -7.317   0.263  1.00  0.00           C  \\nATOM      9  CA  ARG A   8      -0.711 -10.292   1.300  1.00  0.00           C  \\nATOM     10  CA  ALA A   9       2.434  -9.723  -0.757  1.00  0.00           C  \\nATOM     11  CA  ARG A  10       4.033  -6.439  -1.806  1.00  0.00           C  \\nATOM     12  CA  GLY A  11       2.099  -4.672  -4.570  1.00  0.00           C  \\nATOM     13  CA  LEU A  12       0.262  -1.352  -4.801  1.00  0.00           C  \\nATOM     14  CA  GLY A  13      -2.508   0.797  -3.335  1.00  0.00           C  \\nATOM     15  CA  LYS A  14      -3.980  -0.836  -0.236  1.00  0.00           C  \\nATOM     16  CA  ASN A  15      -0.328  -1.475   0.570  1.00  0.00           C  \\nATOM     17  CA  MET A  16       1.306   1.828  -0.373  1.00  0.00           C  \\nATOM     18  CA  GLY A  17      -1.675   3.774   0.968  1.00  0.00           C  \\nATOM     19  CA  MET A  18      -1.223   2.158   4.375  1.00  0.00           C  \\nATOM     20  CA  LYS A  19       2.393   3.291   4.065  1.00  0.00           C  \\nATOM     21  CA  SER A  20       2.032   6.933   3.029  1.00  0.00           C  \\nATOM     22  CA  ARG A  21      -0.205   7.271   6.063  1.00  0.00           C  \\nATOM     23  CA  GLY A  22       2.990   8.377   7.794  1.00  0.00           C  \\nATOM     24  CA  ARG A  23       4.416  11.907   7.729  1.00  0.00           C  \\nATOM     25  CA  GLY A  24       7.951  11.672   9.107  1.00  0.00           C  \\nATOM     26  CA  LYS A  25      10.330  14.393  10.274  1.00  0.00           C  \\nATOM     27  CA  GLY A  26       7.823  17.071  11.285  1.00  0.00           C  \\nTER      28      GLY A  26\\nENDMDL\\nEND\\n\",\"pdb\");\n",
              "\tviewer_17391731821913338.setStyle({\"serial\": \"1\"},{\"sphere\": {\"color\": \"#5e4fa2\", \"radius\": 1.9}});\n",
              "\tviewer_17391731821913338.setStyle({\"serial\": \"2\"},{\"sphere\": {\"color\": \"#4e63ab\", \"radius\": 1.9}});\n",
              "\tviewer_17391731821913338.setStyle({\"serial\": \"3\"},{\"sphere\": {\"color\": \"#3d79b6\", \"radius\": 1.9}});\n",
              "\tviewer_17391731821913338.setStyle({\"serial\": \"4\"},{\"sphere\": {\"color\": \"#398fb9\", \"radius\": 1.9}});\n",
              "\tviewer_17391731821913338.setStyle({\"serial\": \"5\"},{\"sphere\": {\"color\": \"#4da6b0\", \"radius\": 1.9}});\n",
              "\tviewer_17391731821913338.setStyle({\"serial\": \"6\"},{\"sphere\": {\"color\": \"#61bda6\", \"radius\": 1.9}});\n",
              "\tviewer_17391731821913338.setStyle({\"serial\": \"7\"},{\"sphere\": {\"color\": \"#7bcaa4\", \"radius\": 1.9}});\n",
              "\tviewer_17391731821913338.setStyle({\"serial\": \"8\"},{\"sphere\": {\"color\": \"#94d4a4\", \"radius\": 1.9}});\n",
              "\tviewer_17391731821913338.setStyle({\"serial\": \"9\"},{\"sphere\": {\"color\": \"#aedea3\", \"radius\": 1.9}});\n",
              "\tviewer_17391731821913338.setStyle({\"serial\": \"10\"},{\"sphere\": {\"color\": \"#c5e79e\", \"radius\": 1.9}});\n",
              "\tviewer_17391731821913338.setStyle({\"serial\": \"11\"},{\"sphere\": {\"color\": \"#dcf199\", \"radius\": 1.9}});\n",
              "\tviewer_17391731821913338.setStyle({\"serial\": \"12\"},{\"sphere\": {\"color\": \"#ebf7a1\", \"radius\": 1.9}});\n",
              "\tviewer_17391731821913338.setStyle({\"serial\": \"13\"},{\"sphere\": {\"color\": \"#f5fbb0\", \"radius\": 1.9}});\n",
              "\tviewer_17391731821913338.setStyle({\"serial\": \"14\"},{\"sphere\": {\"color\": \"#fefebd\", \"radius\": 1.9}});\n",
              "\tviewer_17391731821913338.setStyle({\"serial\": \"15\"},{\"sphere\": {\"color\": \"#fef3ab\", \"radius\": 1.9}});\n",
              "\tviewer_17391731821913338.setStyle({\"serial\": \"16\"},{\"sphere\": {\"color\": \"#fee797\", \"radius\": 1.9}});\n",
              "\tviewer_17391731821913338.setStyle({\"serial\": \"17\"},{\"sphere\": {\"color\": \"#fdd884\", \"radius\": 1.9}});\n",
              "\tviewer_17391731821913338.setStyle({\"serial\": \"18\"},{\"sphere\": {\"color\": \"#fdc473\", \"radius\": 1.9}});\n",
              "\tviewer_17391731821913338.setStyle({\"serial\": \"19\"},{\"sphere\": {\"color\": \"#fdb063\", \"radius\": 1.9}});\n",
              "\tviewer_17391731821913338.setStyle({\"serial\": \"20\"},{\"sphere\": {\"color\": \"#fa9857\", \"radius\": 1.9}});\n",
              "\tviewer_17391731821913338.setStyle({\"serial\": \"21\"},{\"sphere\": {\"color\": \"#f6814c\", \"radius\": 1.9}});\n",
              "\tviewer_17391731821913338.setStyle({\"serial\": \"22\"},{\"sphere\": {\"color\": \"#f16943\", \"radius\": 1.9}});\n",
              "\tviewer_17391731821913338.setStyle({\"serial\": \"23\"},{\"sphere\": {\"color\": \"#e55648\", \"radius\": 1.9}});\n",
              "\tviewer_17391731821913338.setStyle({\"serial\": \"24\"},{\"sphere\": {\"color\": \"#d9444d\", \"radius\": 1.9}});\n",
              "\tviewer_17391731821913338.setStyle({\"serial\": \"25\"},{\"sphere\": {\"color\": \"#c62e4b\", \"radius\": 1.9}});\n",
              "\tviewer_17391731821913338.setStyle({\"serial\": \"26\"},{\"sphere\": {\"color\": \"#b11646\", \"radius\": 1.9}});\n",
              "\tviewer_17391731821913338.setStyle({\"serial\": \"27\"},{\"sphere\": {\"color\": \"#9e0142\", \"radius\": 1.9}});\n",
              "\tviewer_17391731821913338.zoomTo();\n",
              "viewer_17391731821913338.render();\n",
              "});\n",
              "</script>"
            ]
          },
          "metadata": {}
        }
      ]
    },
    {
      "cell_type": "markdown",
      "source": [
        "---\n",
        "\n",
        "# 5 - Download results"
      ],
      "metadata": {
        "id": "9Lphj3MyI0XY"
      }
    },
    {
      "cell_type": "code",
      "source": [
        "#@title Download dcd files with the generated ensembles\n",
        "\n",
        "#@markdown Run this cell to download a ZIP file containing the DCD\n",
        "\n",
        "from google.colab import files\n",
        "\n",
        "print(\"- Compressing the results in a ZIP file.\")\n",
        "!zip -r idpsam_results.zip output &> /dev/null\n",
        "files.download(\"idpsam_results.zip\")"
      ],
      "metadata": {
        "cellView": "form",
        "id": "t2v9DlCtI0zv",
        "outputId": "b392da0c-47f1-40af-d4d8-c99107c150d7",
        "colab": {
          "base_uri": "https://localhost:8080/",
          "height": 34
        }
      },
      "execution_count": 12,
      "outputs": [
        {
          "output_type": "stream",
          "name": "stdout",
          "text": [
            "- Compressing the results in a ZIP file.\n"
          ]
        },
        {
          "output_type": "display_data",
          "data": {
            "text/plain": [
              "<IPython.core.display.Javascript object>"
            ],
            "application/javascript": [
              "\n",
              "    async function download(id, filename, size) {\n",
              "      if (!google.colab.kernel.accessAllowed) {\n",
              "        return;\n",
              "      }\n",
              "      const div = document.createElement('div');\n",
              "      const label = document.createElement('label');\n",
              "      label.textContent = `Downloading \"${filename}\": `;\n",
              "      div.appendChild(label);\n",
              "      const progress = document.createElement('progress');\n",
              "      progress.max = size;\n",
              "      div.appendChild(progress);\n",
              "      document.body.appendChild(div);\n",
              "\n",
              "      const buffers = [];\n",
              "      let downloaded = 0;\n",
              "\n",
              "      const channel = await google.colab.kernel.comms.open(id);\n",
              "      // Send a message to notify the kernel that we're ready.\n",
              "      channel.send({})\n",
              "\n",
              "      for await (const message of channel.messages) {\n",
              "        // Send a message to notify the kernel that we're ready.\n",
              "        channel.send({})\n",
              "        if (message.buffers) {\n",
              "          for (const buffer of message.buffers) {\n",
              "            buffers.push(buffer);\n",
              "            downloaded += buffer.byteLength;\n",
              "            progress.value = downloaded;\n",
              "          }\n",
              "        }\n",
              "      }\n",
              "      const blob = new Blob(buffers, {type: 'application/binary'});\n",
              "      const a = document.createElement('a');\n",
              "      a.href = window.URL.createObjectURL(blob);\n",
              "      a.download = filename;\n",
              "      div.appendChild(a);\n",
              "      a.click();\n",
              "      div.remove();\n",
              "    }\n",
              "  "
            ]
          },
          "metadata": {}
        },
        {
          "output_type": "display_data",
          "data": {
            "text/plain": [
              "<IPython.core.display.Javascript object>"
            ],
            "application/javascript": [
              "download(\"download_857b94d5-190d-4a6f-95e2-bb6a590b9be0\", \"idpsam_results.zip\", 290844)"
            ]
          },
          "metadata": {}
        }
      ]
    }
  ]
}